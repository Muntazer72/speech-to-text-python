{
 "cells": [
  {
   "cell_type": "code",
   "execution_count": null,
   "id": "0fb06793",
   "metadata": {},
   "outputs": [],
   "source": [
    "pip install SpeechRecognition pydub"
   ]
  },
  {
   "cell_type": "code",
   "execution_count": null,
   "id": "1c3be1ed",
   "metadata": {},
   "outputs": [],
   "source": [
    "import speech_recognition as sr\n",
    "recognizer = sr.Recognizer()\n",
    "audio_file = \"audiobook.wav\"\n",
    "from pydub import AudioSegment\n",
    "AudioSegment.from_mp3(audio_file).export(audio_file,format=\"wav\")\n",
    "with sr.Audiofile(audio_file) as source:\n",
    "    audio_data = recognizer.record(source)\n",
    "try:\n",
    "    text = recognizer.recognize_google(audio_data)\n",
    "    print(\"Extracted Text: \",text)\n",
    "except sr.UnknownValueError:\n",
    "    print(\"Could not understand the audio.\")\n",
    "except sr.RecuestError as e:\n",
    "    print(\"API Error:\",e)"
   ]
  }
 ],
 "metadata": {
  "language_info": {
   "name": "python"
  }
 },
 "nbformat": 4,
 "nbformat_minor": 5
}
